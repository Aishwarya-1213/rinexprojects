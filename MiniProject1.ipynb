{
  "nbformat": 4,
  "nbformat_minor": 0,
  "metadata": {
    "colab": {
      "provenance": [],
      "collapsed_sections": [],
      "authorship_tag": "ABX9TyOxxwdaJe52/koxdcBhpOLe",
      "include_colab_link": true
    },
    "kernelspec": {
      "name": "python3",
      "display_name": "Python 3"
    },
    "language_info": {
      "name": "python"
    }
  },
  "cells": [
    {
      "cell_type": "markdown",
      "metadata": {
        "id": "view-in-github",
        "colab_type": "text"
      },
      "source": [
        "<a href=\"https://colab.research.google.com/github/Aishwarya-1213/rinexprojects/blob/main/MiniProject1.ipynb\" target=\"_parent\"><img src=\"https://colab.research.google.com/assets/colab-badge.svg\" alt=\"Open In Colab\"/></a>"
      ]
    },
    {
      "cell_type": "code",
      "source": [
        "Name -- Aishwarya Brungi\n",
        "College -- KU College Of Engineering and Technology\n",
        "Branch -- CSE\n",
        "Year -- 4\n",
        "URL- https://www.kaggle.com/datasets/erqizhou/students-data-analysis"
      ],
      "metadata": {
        "id": "dnLkA5GIe2P6"
      },
      "execution_count": null,
      "outputs": []
    },
    {
      "cell_type": "code",
      "source": [],
      "metadata": {
        "id": "PmI_L8NXfkRl"
      },
      "execution_count": null,
      "outputs": []
    },
    {
      "cell_type": "code",
      "source": [],
      "metadata": {
        "id": "cwylQccZfkXq"
      },
      "execution_count": null,
      "outputs": []
    },
    {
      "cell_type": "code",
      "source": [],
      "metadata": {
        "id": "ijDbmFatfkec"
      },
      "execution_count": null,
      "outputs": []
    },
    {
      "cell_type": "code",
      "source": [],
      "metadata": {
        "id": "3b0ltJuoe2Tp"
      },
      "execution_count": null,
      "outputs": []
    },
    {
      "cell_type": "code",
      "source": [],
      "metadata": {
        "id": "ZAuBgGpofW8p"
      },
      "execution_count": null,
      "outputs": []
    },
    {
      "cell_type": "code",
      "source": [],
      "metadata": {
        "id": "zdqUfNoXfXB2"
      },
      "execution_count": null,
      "outputs": []
    },
    {
      "cell_type": "code",
      "source": [],
      "metadata": {
        "id": "-wisWu5rfXFb"
      },
      "execution_count": null,
      "outputs": []
    },
    {
      "cell_type": "code",
      "source": [],
      "metadata": {
        "id": "MfA7xC00fXKK"
      },
      "execution_count": null,
      "outputs": []
    },
    {
      "cell_type": "code",
      "source": [],
      "metadata": {
        "id": "DtbsC2nyfZ7o"
      },
      "execution_count": null,
      "outputs": []
    },
    {
      "cell_type": "code",
      "source": [],
      "metadata": {
        "id": "mBecyA5sfaAf"
      },
      "execution_count": null,
      "outputs": []
    },
    {
      "cell_type": "code",
      "source": [],
      "metadata": {
        "id": "4NSl47sye2W_"
      },
      "execution_count": null,
      "outputs": []
    },
    {
      "cell_type": "code",
      "source": [],
      "metadata": {
        "id": "zBQ2GWU4e2av"
      },
      "execution_count": null,
      "outputs": []
    },
    {
      "cell_type": "code",
      "source": [],
      "metadata": {
        "id": "4ybuDzvde2eT"
      },
      "execution_count": null,
      "outputs": []
    },
    {
      "cell_type": "code",
      "source": [],
      "metadata": {
        "id": "lrgCQRowe2h6"
      },
      "execution_count": null,
      "outputs": []
    },
    {
      "cell_type": "code",
      "source": [],
      "metadata": {
        "id": "M4Qt81WWe2kK"
      },
      "execution_count": null,
      "outputs": []
    },
    {
      "cell_type": "code",
      "source": [],
      "metadata": {
        "id": "i5d_NcRRe2nS"
      },
      "execution_count": null,
      "outputs": []
    },
    {
      "cell_type": "code",
      "source": [],
      "metadata": {
        "id": "KTku5l0qe2qn"
      },
      "execution_count": null,
      "outputs": []
    },
    {
      "cell_type": "code",
      "source": [],
      "metadata": {
        "id": "VJb_y9nCe2uB"
      },
      "execution_count": null,
      "outputs": []
    },
    {
      "cell_type": "code",
      "source": [
        "#Exploratory Data Analysis"
      ],
      "metadata": {
        "id": "4OtccbcKezXY"
      },
      "execution_count": null,
      "outputs": []
    },
    {
      "cell_type": "code",
      "source": [
        "import pandas as pd\n",
        "df = pd.read_csv('/content/Students data.csv')\n",
        "df"
      ],
      "metadata": {
        "colab": {
          "base_uri": "https://localhost:8080/",
          "height": 488
        },
        "id": "DWxS7ah9j8BH",
        "outputId": "4f9424c9-b7fa-4cd1-c9ce-9e243b32b02d"
      },
      "execution_count": null,
      "outputs": [
        {
          "output_type": "execute_result",
          "data": {
            "text/plain": [
              "       ID class  gender  race    GPA  Algebra  Calculus1  Calculus2  \\\n",
              "0    1141     A    male     1  73.47       64         81         87   \n",
              "1    1142     A  female     1  71.22       57         50         51   \n",
              "2    1143     A  female     2  74.56       47         48         71   \n",
              "3    1144     A  female     1  72.89       46         72         38   \n",
              "4    1145     A  female     1  70.11       49         45         63   \n",
              "..    ...   ...     ...   ...    ...      ...        ...        ...   \n",
              "100  1241     A  female     1  88.34       87         83         92   \n",
              "101  1242     B    male     1  89.84       98         77         95   \n",
              "102  1243     B    male     1  88.82       83         80         91   \n",
              "103  1244     A    male     1  86.60       92         82         91   \n",
              "104  1245     A    male     1  93.71       93         97         99   \n",
              "\n",
              "     Statistics  Probability  Measure  Functional_analysis from1 from2 from3  \\\n",
              "0            60           74       71                   60     A     A     A   \n",
              "1            51           55       62                   61     B     A     A   \n",
              "2            60           61       68                   64     C     A     A   \n",
              "3            60           29       54                   51     D     A     A   \n",
              "4            60           66       66                   61     E     A     A   \n",
              "..          ...          ...      ...                  ...   ...   ...   ...   \n",
              "100          98           93       86                   90     M     B     A   \n",
              "101          98           96       88                  100     A     B     A   \n",
              "102          98           93       95                   71     T     B     A   \n",
              "103          99           94       82                   78     S     B     A   \n",
              "104         100           97       90                   90     K     B     A   \n",
              "\n",
              "     from4  y  \n",
              "0        3  0  \n",
              "1        2  0  \n",
              "2        0  1  \n",
              "3        0  0  \n",
              "4        0  0  \n",
              "..     ... ..  \n",
              "100      0  1  \n",
              "101      0  1  \n",
              "102      0  2  \n",
              "103      0  2  \n",
              "104      0  2  \n",
              "\n",
              "[105 rows x 17 columns]"
            ],
            "text/html": [
              "\n",
              "  <div id=\"df-366d60fa-7dcd-4587-a3c3-f15c42171a43\">\n",
              "    <div class=\"colab-df-container\">\n",
              "      <div>\n",
              "<style scoped>\n",
              "    .dataframe tbody tr th:only-of-type {\n",
              "        vertical-align: middle;\n",
              "    }\n",
              "\n",
              "    .dataframe tbody tr th {\n",
              "        vertical-align: top;\n",
              "    }\n",
              "\n",
              "    .dataframe thead th {\n",
              "        text-align: right;\n",
              "    }\n",
              "</style>\n",
              "<table border=\"1\" class=\"dataframe\">\n",
              "  <thead>\n",
              "    <tr style=\"text-align: right;\">\n",
              "      <th></th>\n",
              "      <th>ID</th>\n",
              "      <th>class</th>\n",
              "      <th>gender</th>\n",
              "      <th>race</th>\n",
              "      <th>GPA</th>\n",
              "      <th>Algebra</th>\n",
              "      <th>Calculus1</th>\n",
              "      <th>Calculus2</th>\n",
              "      <th>Statistics</th>\n",
              "      <th>Probability</th>\n",
              "      <th>Measure</th>\n",
              "      <th>Functional_analysis</th>\n",
              "      <th>from1</th>\n",
              "      <th>from2</th>\n",
              "      <th>from3</th>\n",
              "      <th>from4</th>\n",
              "      <th>y</th>\n",
              "    </tr>\n",
              "  </thead>\n",
              "  <tbody>\n",
              "    <tr>\n",
              "      <th>0</th>\n",
              "      <td>1141</td>\n",
              "      <td>A</td>\n",
              "      <td>male</td>\n",
              "      <td>1</td>\n",
              "      <td>73.47</td>\n",
              "      <td>64</td>\n",
              "      <td>81</td>\n",
              "      <td>87</td>\n",
              "      <td>60</td>\n",
              "      <td>74</td>\n",
              "      <td>71</td>\n",
              "      <td>60</td>\n",
              "      <td>A</td>\n",
              "      <td>A</td>\n",
              "      <td>A</td>\n",
              "      <td>3</td>\n",
              "      <td>0</td>\n",
              "    </tr>\n",
              "    <tr>\n",
              "      <th>1</th>\n",
              "      <td>1142</td>\n",
              "      <td>A</td>\n",
              "      <td>female</td>\n",
              "      <td>1</td>\n",
              "      <td>71.22</td>\n",
              "      <td>57</td>\n",
              "      <td>50</td>\n",
              "      <td>51</td>\n",
              "      <td>51</td>\n",
              "      <td>55</td>\n",
              "      <td>62</td>\n",
              "      <td>61</td>\n",
              "      <td>B</td>\n",
              "      <td>A</td>\n",
              "      <td>A</td>\n",
              "      <td>2</td>\n",
              "      <td>0</td>\n",
              "    </tr>\n",
              "    <tr>\n",
              "      <th>2</th>\n",
              "      <td>1143</td>\n",
              "      <td>A</td>\n",
              "      <td>female</td>\n",
              "      <td>2</td>\n",
              "      <td>74.56</td>\n",
              "      <td>47</td>\n",
              "      <td>48</td>\n",
              "      <td>71</td>\n",
              "      <td>60</td>\n",
              "      <td>61</td>\n",
              "      <td>68</td>\n",
              "      <td>64</td>\n",
              "      <td>C</td>\n",
              "      <td>A</td>\n",
              "      <td>A</td>\n",
              "      <td>0</td>\n",
              "      <td>1</td>\n",
              "    </tr>\n",
              "    <tr>\n",
              "      <th>3</th>\n",
              "      <td>1144</td>\n",
              "      <td>A</td>\n",
              "      <td>female</td>\n",
              "      <td>1</td>\n",
              "      <td>72.89</td>\n",
              "      <td>46</td>\n",
              "      <td>72</td>\n",
              "      <td>38</td>\n",
              "      <td>60</td>\n",
              "      <td>29</td>\n",
              "      <td>54</td>\n",
              "      <td>51</td>\n",
              "      <td>D</td>\n",
              "      <td>A</td>\n",
              "      <td>A</td>\n",
              "      <td>0</td>\n",
              "      <td>0</td>\n",
              "    </tr>\n",
              "    <tr>\n",
              "      <th>4</th>\n",
              "      <td>1145</td>\n",
              "      <td>A</td>\n",
              "      <td>female</td>\n",
              "      <td>1</td>\n",
              "      <td>70.11</td>\n",
              "      <td>49</td>\n",
              "      <td>45</td>\n",
              "      <td>63</td>\n",
              "      <td>60</td>\n",
              "      <td>66</td>\n",
              "      <td>66</td>\n",
              "      <td>61</td>\n",
              "      <td>E</td>\n",
              "      <td>A</td>\n",
              "      <td>A</td>\n",
              "      <td>0</td>\n",
              "      <td>0</td>\n",
              "    </tr>\n",
              "    <tr>\n",
              "      <th>...</th>\n",
              "      <td>...</td>\n",
              "      <td>...</td>\n",
              "      <td>...</td>\n",
              "      <td>...</td>\n",
              "      <td>...</td>\n",
              "      <td>...</td>\n",
              "      <td>...</td>\n",
              "      <td>...</td>\n",
              "      <td>...</td>\n",
              "      <td>...</td>\n",
              "      <td>...</td>\n",
              "      <td>...</td>\n",
              "      <td>...</td>\n",
              "      <td>...</td>\n",
              "      <td>...</td>\n",
              "      <td>...</td>\n",
              "      <td>...</td>\n",
              "    </tr>\n",
              "    <tr>\n",
              "      <th>100</th>\n",
              "      <td>1241</td>\n",
              "      <td>A</td>\n",
              "      <td>female</td>\n",
              "      <td>1</td>\n",
              "      <td>88.34</td>\n",
              "      <td>87</td>\n",
              "      <td>83</td>\n",
              "      <td>92</td>\n",
              "      <td>98</td>\n",
              "      <td>93</td>\n",
              "      <td>86</td>\n",
              "      <td>90</td>\n",
              "      <td>M</td>\n",
              "      <td>B</td>\n",
              "      <td>A</td>\n",
              "      <td>0</td>\n",
              "      <td>1</td>\n",
              "    </tr>\n",
              "    <tr>\n",
              "      <th>101</th>\n",
              "      <td>1242</td>\n",
              "      <td>B</td>\n",
              "      <td>male</td>\n",
              "      <td>1</td>\n",
              "      <td>89.84</td>\n",
              "      <td>98</td>\n",
              "      <td>77</td>\n",
              "      <td>95</td>\n",
              "      <td>98</td>\n",
              "      <td>96</td>\n",
              "      <td>88</td>\n",
              "      <td>100</td>\n",
              "      <td>A</td>\n",
              "      <td>B</td>\n",
              "      <td>A</td>\n",
              "      <td>0</td>\n",
              "      <td>1</td>\n",
              "    </tr>\n",
              "    <tr>\n",
              "      <th>102</th>\n",
              "      <td>1243</td>\n",
              "      <td>B</td>\n",
              "      <td>male</td>\n",
              "      <td>1</td>\n",
              "      <td>88.82</td>\n",
              "      <td>83</td>\n",
              "      <td>80</td>\n",
              "      <td>91</td>\n",
              "      <td>98</td>\n",
              "      <td>93</td>\n",
              "      <td>95</td>\n",
              "      <td>71</td>\n",
              "      <td>T</td>\n",
              "      <td>B</td>\n",
              "      <td>A</td>\n",
              "      <td>0</td>\n",
              "      <td>2</td>\n",
              "    </tr>\n",
              "    <tr>\n",
              "      <th>103</th>\n",
              "      <td>1244</td>\n",
              "      <td>A</td>\n",
              "      <td>male</td>\n",
              "      <td>1</td>\n",
              "      <td>86.60</td>\n",
              "      <td>92</td>\n",
              "      <td>82</td>\n",
              "      <td>91</td>\n",
              "      <td>99</td>\n",
              "      <td>94</td>\n",
              "      <td>82</td>\n",
              "      <td>78</td>\n",
              "      <td>S</td>\n",
              "      <td>B</td>\n",
              "      <td>A</td>\n",
              "      <td>0</td>\n",
              "      <td>2</td>\n",
              "    </tr>\n",
              "    <tr>\n",
              "      <th>104</th>\n",
              "      <td>1245</td>\n",
              "      <td>A</td>\n",
              "      <td>male</td>\n",
              "      <td>1</td>\n",
              "      <td>93.71</td>\n",
              "      <td>93</td>\n",
              "      <td>97</td>\n",
              "      <td>99</td>\n",
              "      <td>100</td>\n",
              "      <td>97</td>\n",
              "      <td>90</td>\n",
              "      <td>90</td>\n",
              "      <td>K</td>\n",
              "      <td>B</td>\n",
              "      <td>A</td>\n",
              "      <td>0</td>\n",
              "      <td>2</td>\n",
              "    </tr>\n",
              "  </tbody>\n",
              "</table>\n",
              "<p>105 rows × 17 columns</p>\n",
              "</div>\n",
              "      <button class=\"colab-df-convert\" onclick=\"convertToInteractive('df-366d60fa-7dcd-4587-a3c3-f15c42171a43')\"\n",
              "              title=\"Convert this dataframe to an interactive table.\"\n",
              "              style=\"display:none;\">\n",
              "        \n",
              "  <svg xmlns=\"http://www.w3.org/2000/svg\" height=\"24px\"viewBox=\"0 0 24 24\"\n",
              "       width=\"24px\">\n",
              "    <path d=\"M0 0h24v24H0V0z\" fill=\"none\"/>\n",
              "    <path d=\"M18.56 5.44l.94 2.06.94-2.06 2.06-.94-2.06-.94-.94-2.06-.94 2.06-2.06.94zm-11 1L8.5 8.5l.94-2.06 2.06-.94-2.06-.94L8.5 2.5l-.94 2.06-2.06.94zm10 10l.94 2.06.94-2.06 2.06-.94-2.06-.94-.94-2.06-.94 2.06-2.06.94z\"/><path d=\"M17.41 7.96l-1.37-1.37c-.4-.4-.92-.59-1.43-.59-.52 0-1.04.2-1.43.59L10.3 9.45l-7.72 7.72c-.78.78-.78 2.05 0 2.83L4 21.41c.39.39.9.59 1.41.59.51 0 1.02-.2 1.41-.59l7.78-7.78 2.81-2.81c.8-.78.8-2.07 0-2.86zM5.41 20L4 18.59l7.72-7.72 1.47 1.35L5.41 20z\"/>\n",
              "  </svg>\n",
              "      </button>\n",
              "      \n",
              "  <style>\n",
              "    .colab-df-container {\n",
              "      display:flex;\n",
              "      flex-wrap:wrap;\n",
              "      gap: 12px;\n",
              "    }\n",
              "\n",
              "    .colab-df-convert {\n",
              "      background-color: #E8F0FE;\n",
              "      border: none;\n",
              "      border-radius: 50%;\n",
              "      cursor: pointer;\n",
              "      display: none;\n",
              "      fill: #1967D2;\n",
              "      height: 32px;\n",
              "      padding: 0 0 0 0;\n",
              "      width: 32px;\n",
              "    }\n",
              "\n",
              "    .colab-df-convert:hover {\n",
              "      background-color: #E2EBFA;\n",
              "      box-shadow: 0px 1px 2px rgba(60, 64, 67, 0.3), 0px 1px 3px 1px rgba(60, 64, 67, 0.15);\n",
              "      fill: #174EA6;\n",
              "    }\n",
              "\n",
              "    [theme=dark] .colab-df-convert {\n",
              "      background-color: #3B4455;\n",
              "      fill: #D2E3FC;\n",
              "    }\n",
              "\n",
              "    [theme=dark] .colab-df-convert:hover {\n",
              "      background-color: #434B5C;\n",
              "      box-shadow: 0px 1px 3px 1px rgba(0, 0, 0, 0.15);\n",
              "      filter: drop-shadow(0px 1px 2px rgba(0, 0, 0, 0.3));\n",
              "      fill: #FFFFFF;\n",
              "    }\n",
              "  </style>\n",
              "\n",
              "      <script>\n",
              "        const buttonEl =\n",
              "          document.querySelector('#df-366d60fa-7dcd-4587-a3c3-f15c42171a43 button.colab-df-convert');\n",
              "        buttonEl.style.display =\n",
              "          google.colab.kernel.accessAllowed ? 'block' : 'none';\n",
              "\n",
              "        async function convertToInteractive(key) {\n",
              "          const element = document.querySelector('#df-366d60fa-7dcd-4587-a3c3-f15c42171a43');\n",
              "          const dataTable =\n",
              "            await google.colab.kernel.invokeFunction('convertToInteractive',\n",
              "                                                     [key], {});\n",
              "          if (!dataTable) return;\n",
              "\n",
              "          const docLinkHtml = 'Like what you see? Visit the ' +\n",
              "            '<a target=\"_blank\" href=https://colab.research.google.com/notebooks/data_table.ipynb>data table notebook</a>'\n",
              "            + ' to learn more about interactive tables.';\n",
              "          element.innerHTML = '';\n",
              "          dataTable['output_type'] = 'display_data';\n",
              "          await google.colab.output.renderOutput(dataTable, element);\n",
              "          const docLink = document.createElement('div');\n",
              "          docLink.innerHTML = docLinkHtml;\n",
              "          element.appendChild(docLink);\n",
              "        }\n",
              "      </script>\n",
              "    </div>\n",
              "  </div>\n",
              "  "
            ]
          },
          "metadata": {},
          "execution_count": 2
        }
      ]
    },
    {
      "cell_type": "code",
      "source": [
        "df.info()"
      ],
      "metadata": {
        "colab": {
          "base_uri": "https://localhost:8080/"
        },
        "id": "8YJHIoOsj8Dl",
        "outputId": "979b159c-abc4-41a7-bf56-8a907f31fdaa"
      },
      "execution_count": null,
      "outputs": [
        {
          "output_type": "stream",
          "name": "stdout",
          "text": [
            "<class 'pandas.core.frame.DataFrame'>\n",
            "RangeIndex: 105 entries, 0 to 104\n",
            "Data columns (total 17 columns):\n",
            " #   Column               Non-Null Count  Dtype  \n",
            "---  ------               --------------  -----  \n",
            " 0   ID                   105 non-null    int64  \n",
            " 1   class                105 non-null    object \n",
            " 2   gender               105 non-null    object \n",
            " 3   race                 105 non-null    int64  \n",
            " 4   GPA                  105 non-null    float64\n",
            " 5   Algebra              105 non-null    int64  \n",
            " 6   Calculus1            105 non-null    int64  \n",
            " 7   Calculus2            105 non-null    int64  \n",
            " 8   Statistics           105 non-null    int64  \n",
            " 9   Probability          105 non-null    int64  \n",
            " 10  Measure              105 non-null    int64  \n",
            " 11  Functional_analysis  105 non-null    int64  \n",
            " 12  from1                105 non-null    object \n",
            " 13  from2                105 non-null    object \n",
            " 14  from3                105 non-null    object \n",
            " 15  from4                105 non-null    int64  \n",
            " 16  y                    105 non-null    int64  \n",
            "dtypes: float64(1), int64(11), object(5)\n",
            "memory usage: 14.1+ KB\n"
          ]
        }
      ]
    },
    {
      "cell_type": "code",
      "source": [
        "df.shape"
      ],
      "metadata": {
        "colab": {
          "base_uri": "https://localhost:8080/"
        },
        "id": "DOjrAOtfj8G-",
        "outputId": "aaf04a24-71ba-40f9-a09e-aa39005a4f59"
      },
      "execution_count": null,
      "outputs": [
        {
          "output_type": "execute_result",
          "data": {
            "text/plain": [
              "(105, 17)"
            ]
          },
          "metadata": {},
          "execution_count": 4
        }
      ]
    },
    {
      "cell_type": "code",
      "source": [
        "df.size"
      ],
      "metadata": {
        "colab": {
          "base_uri": "https://localhost:8080/"
        },
        "id": "s5PHUnPwj8dc",
        "outputId": "4696ea7c-901c-44ec-eb5a-8b1e6954e5a3"
      },
      "execution_count": null,
      "outputs": [
        {
          "output_type": "execute_result",
          "data": {
            "text/plain": [
              "1785"
            ]
          },
          "metadata": {},
          "execution_count": 5
        }
      ]
    },
    {
      "cell_type": "code",
      "source": [
        "df.nunique()"
      ],
      "metadata": {
        "colab": {
          "base_uri": "https://localhost:8080/"
        },
        "id": "gddFcR1blME3",
        "outputId": "27e8fb34-08f1-440f-a46b-5ff7f20dbf02"
      },
      "execution_count": null,
      "outputs": [
        {
          "output_type": "execute_result",
          "data": {
            "text/plain": [
              "ID                     105\n",
              "class                    2\n",
              "gender                   2\n",
              "race                     7\n",
              "GPA                    103\n",
              "Algebra                 39\n",
              "Calculus1               37\n",
              "Calculus2               38\n",
              "Statistics              30\n",
              "Probability             36\n",
              "Measure                 38\n",
              "Functional_analysis     35\n",
              "from1                   28\n",
              "from2                    2\n",
              "from3                    5\n",
              "from4                    3\n",
              "y                        3\n",
              "dtype: int64"
            ]
          },
          "metadata": {},
          "execution_count": 6
        }
      ]
    },
    {
      "cell_type": "code",
      "source": [
        "df.groupby('gender').size()  #numbers of females and males "
      ],
      "metadata": {
        "colab": {
          "base_uri": "https://localhost:8080/"
        },
        "id": "qkQj3CtolMLr",
        "outputId": "c92a4f0a-ce72-4213-a130-6507181702c7"
      },
      "execution_count": null,
      "outputs": [
        {
          "output_type": "execute_result",
          "data": {
            "text/plain": [
              "gender\n",
              "female    68\n",
              "male      37\n",
              "dtype: int64"
            ]
          },
          "metadata": {},
          "execution_count": 7
        }
      ]
    },
    {
      "cell_type": "code",
      "source": [
        "import numpy as np   #lowest GPA\n",
        "np.min(df['GPA'])"
      ],
      "metadata": {
        "id": "WlkefvD1lMTB",
        "colab": {
          "base_uri": "https://localhost:8080/"
        },
        "outputId": "b76bcc1d-2dd8-415f-9a77-ae08dc8422ef"
      },
      "execution_count": null,
      "outputs": [
        {
          "output_type": "execute_result",
          "data": {
            "text/plain": [
              "63.49"
            ]
          },
          "metadata": {},
          "execution_count": 9
        }
      ]
    },
    {
      "cell_type": "code",
      "source": [],
      "metadata": {
        "id": "FbHeoUrEeyLO"
      },
      "execution_count": null,
      "outputs": []
    },
    {
      "cell_type": "code",
      "source": [
        "np.max(df['GPA'])  #Highest GPA"
      ],
      "metadata": {
        "id": "Ou6HHGBFlMVk",
        "colab": {
          "base_uri": "https://localhost:8080/"
        },
        "outputId": "402fe96e-63e1-471d-8b70-85353a1bad5a"
      },
      "execution_count": null,
      "outputs": [
        {
          "output_type": "execute_result",
          "data": {
            "text/plain": [
              "93.71"
            ]
          },
          "metadata": {},
          "execution_count": 10
        }
      ]
    },
    {
      "cell_type": "code",
      "source": [
        "np.max(df['Calculus1'])"
      ],
      "metadata": {
        "colab": {
          "base_uri": "https://localhost:8080/"
        },
        "id": "93f9g4fTak1-",
        "outputId": "c61b845f-e2c0-4a47-ca6a-839b9fab739c"
      },
      "execution_count": null,
      "outputs": [
        {
          "output_type": "execute_result",
          "data": {
            "text/plain": [
              "100"
            ]
          },
          "metadata": {},
          "execution_count": 11
        }
      ]
    },
    {
      "cell_type": "code",
      "source": [
        "np.min(df['Calculus1'])"
      ],
      "metadata": {
        "id": "X5Bid5G9ak5V",
        "colab": {
          "base_uri": "https://localhost:8080/"
        },
        "outputId": "e14cdb50-80c1-4b5c-9ef6-6348ef749fda"
      },
      "execution_count": null,
      "outputs": [
        {
          "output_type": "execute_result",
          "data": {
            "text/plain": [
              "38"
            ]
          },
          "metadata": {},
          "execution_count": 9
        }
      ]
    },
    {
      "cell_type": "code",
      "source": [
        "np.max(df['Calculus2'])"
      ],
      "metadata": {
        "id": "LbktAF5iak9j",
        "colab": {
          "base_uri": "https://localhost:8080/"
        },
        "outputId": "1f9d9162-da32-4f4d-bae8-a38e9c8c7cf3"
      },
      "execution_count": null,
      "outputs": [
        {
          "output_type": "execute_result",
          "data": {
            "text/plain": [
              "99"
            ]
          },
          "metadata": {},
          "execution_count": 12
        }
      ]
    },
    {
      "cell_type": "code",
      "source": [
        "np.max(df['Calculus2'])"
      ],
      "metadata": {
        "id": "ugGFBYK7alBz",
        "colab": {
          "base_uri": "https://localhost:8080/"
        },
        "outputId": "e3342ee6-03d0-4ae1-b1b6-2ab59ef62fad"
      },
      "execution_count": null,
      "outputs": [
        {
          "output_type": "execute_result",
          "data": {
            "text/plain": [
              "99"
            ]
          },
          "metadata": {},
          "execution_count": 13
        }
      ]
    },
    {
      "cell_type": "code",
      "source": [
        "np.max(df['Algebra'])"
      ],
      "metadata": {
        "id": "4IgZE9lGlMZC",
        "colab": {
          "base_uri": "https://localhost:8080/"
        },
        "outputId": "40e1836d-b7a7-4cab-ced8-deeff0f963bd"
      },
      "execution_count": null,
      "outputs": [
        {
          "output_type": "execute_result",
          "data": {
            "text/plain": [
              "98"
            ]
          },
          "metadata": {},
          "execution_count": 14
        }
      ]
    },
    {
      "cell_type": "code",
      "source": [
        "np.min(df['Algebra'])"
      ],
      "metadata": {
        "id": "cUoMySoalMcK",
        "colab": {
          "base_uri": "https://localhost:8080/"
        },
        "outputId": "4932706f-96a9-4d45-b6f5-26c4fc1a20c0"
      },
      "execution_count": null,
      "outputs": [
        {
          "output_type": "execute_result",
          "data": {
            "text/plain": [
              "46"
            ]
          },
          "metadata": {},
          "execution_count": 16
        }
      ]
    },
    {
      "cell_type": "code",
      "source": [
        "np.max(df['Statistics'])"
      ],
      "metadata": {
        "id": "RADf3ytPakF4",
        "colab": {
          "base_uri": "https://localhost:8080/"
        },
        "outputId": "8b967c6c-7364-4b0d-aabb-6782c14a77db"
      },
      "execution_count": null,
      "outputs": [
        {
          "output_type": "execute_result",
          "data": {
            "text/plain": [
              "100"
            ]
          },
          "metadata": {},
          "execution_count": 17
        }
      ]
    },
    {
      "cell_type": "code",
      "source": [
        "np.min(df['Statistics'])"
      ],
      "metadata": {
        "id": "qtj3M3muakMQ",
        "colab": {
          "base_uri": "https://localhost:8080/"
        },
        "outputId": "c1b15388-1471-4d7c-9b67-270969ae18fa"
      },
      "execution_count": null,
      "outputs": [
        {
          "output_type": "execute_result",
          "data": {
            "text/plain": [
              "51"
            ]
          },
          "metadata": {},
          "execution_count": 18
        }
      ]
    },
    {
      "cell_type": "code",
      "source": [
        "np.max(df['Probability'])"
      ],
      "metadata": {
        "id": "8MrojXbQakRO",
        "colab": {
          "base_uri": "https://localhost:8080/"
        },
        "outputId": "5e728092-c2bb-4a1f-ce53-3a0e687243c8"
      },
      "execution_count": null,
      "outputs": [
        {
          "output_type": "execute_result",
          "data": {
            "text/plain": [
              "97"
            ]
          },
          "metadata": {},
          "execution_count": 22
        }
      ]
    },
    {
      "cell_type": "code",
      "source": [
        "np.min(df['Probability'])"
      ],
      "metadata": {
        "id": "ZljTT5OHakVK",
        "colab": {
          "base_uri": "https://localhost:8080/"
        },
        "outputId": "ac7a19c6-7310-4086-f249-08e7bd2f989a"
      },
      "execution_count": null,
      "outputs": [
        {
          "output_type": "execute_result",
          "data": {
            "text/plain": [
              "29"
            ]
          },
          "metadata": {},
          "execution_count": 21
        }
      ]
    },
    {
      "cell_type": "code",
      "source": [
        "np.max(df['Functional_analysis'])"
      ],
      "metadata": {
        "id": "e48_ThjbakZT",
        "colab": {
          "base_uri": "https://localhost:8080/"
        },
        "outputId": "9ef4bb15-7ab3-40c1-917b-888479cae5cb"
      },
      "execution_count": null,
      "outputs": [
        {
          "output_type": "execute_result",
          "data": {
            "text/plain": [
              "100"
            ]
          },
          "metadata": {},
          "execution_count": 20
        }
      ]
    },
    {
      "cell_type": "code",
      "source": [
        "np.min(df['Functional_analysis'])"
      ],
      "metadata": {
        "id": "Kgjyj5YGakdf",
        "colab": {
          "base_uri": "https://localhost:8080/"
        },
        "outputId": "75354670-938d-4863-8da8-b1f35e6ce3ed"
      },
      "execution_count": null,
      "outputs": [
        {
          "output_type": "execute_result",
          "data": {
            "text/plain": [
              "9"
            ]
          },
          "metadata": {},
          "execution_count": 23
        }
      ]
    },
    {
      "cell_type": "code",
      "source": [
        "df.groupby(['ID','gender']).GPA.max()"
      ],
      "metadata": {
        "colab": {
          "base_uri": "https://localhost:8080/"
        },
        "id": "Ji6RSHG38K-5",
        "outputId": "0748ea54-3966-4820-ee6d-893168fb28d3"
      },
      "execution_count": null,
      "outputs": [
        {
          "output_type": "execute_result",
          "data": {
            "text/plain": [
              "ID    gender\n",
              "1141  male      73.47\n",
              "1142  female    71.22\n",
              "1143  female    74.56\n",
              "1144  female    72.89\n",
              "1145  female    70.11\n",
              "                ...  \n",
              "1241  female    88.34\n",
              "1242  male      89.84\n",
              "1243  male      88.82\n",
              "1244  male      86.60\n",
              "1245  male      93.71\n",
              "Name: GPA, Length: 105, dtype: float64"
            ]
          },
          "metadata": {},
          "execution_count": 27
        }
      ]
    },
    {
      "cell_type": "code",
      "source": [],
      "metadata": {
        "id": "HFBVqgFK8LCz"
      },
      "execution_count": null,
      "outputs": []
    },
    {
      "cell_type": "code",
      "source": [],
      "metadata": {
        "id": "wj-mBiVT8LGS"
      },
      "execution_count": null,
      "outputs": []
    },
    {
      "cell_type": "code",
      "source": [],
      "metadata": {
        "id": "T5_vbQ0_8LJn"
      },
      "execution_count": null,
      "outputs": []
    },
    {
      "cell_type": "code",
      "source": [],
      "metadata": {
        "id": "_GCi9yID8LM1"
      },
      "execution_count": null,
      "outputs": []
    },
    {
      "cell_type": "code",
      "source": [],
      "metadata": {
        "id": "2oq8vu7x8LQI"
      },
      "execution_count": null,
      "outputs": []
    },
    {
      "cell_type": "code",
      "source": [],
      "metadata": {
        "id": "pg1qW6LE8LT3"
      },
      "execution_count": null,
      "outputs": []
    },
    {
      "cell_type": "code",
      "source": [],
      "metadata": {
        "id": "pJZhEc04A6KL"
      },
      "execution_count": null,
      "outputs": []
    },
    {
      "cell_type": "code",
      "source": [],
      "metadata": {
        "id": "CkKnkq9PA6Nj"
      },
      "execution_count": null,
      "outputs": []
    },
    {
      "cell_type": "code",
      "source": [],
      "metadata": {
        "id": "E85UKJEXA6Q1"
      },
      "execution_count": null,
      "outputs": []
    },
    {
      "cell_type": "code",
      "source": [],
      "metadata": {
        "id": "K5j-2yrAA6Th"
      },
      "execution_count": null,
      "outputs": []
    },
    {
      "cell_type": "code",
      "source": [],
      "metadata": {
        "id": "p7dbqXMDA6Wo"
      },
      "execution_count": null,
      "outputs": []
    }
  ]
}